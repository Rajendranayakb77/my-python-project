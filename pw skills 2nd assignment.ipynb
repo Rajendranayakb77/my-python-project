{
 "cells": [
  {
   "cell_type": "code",
   "execution_count": 44,
   "id": "2982dfa8",
   "metadata": {
    "scrolled": true
   },
   "outputs": [
    {
     "name": "stdout",
     "output_type": "stream",
     "text": [
      "<class 'int'>\n",
      "<class 'str'>\n",
      "[2, 3]\n",
      "25\n",
      "<class 'float'>\n",
      "R\n",
      "A\n",
      "J\n",
      "E\n",
      "N\n",
      "D\n",
      "R\n",
      "A\n",
      " \n",
      "N\n",
      "A\n",
      "Y\n",
      "A\n",
      "K\n"
     ]
    }
   ],
   "source": [
    "#Q1. How do you comment code in Python? What are the different types of comments?\n",
    "\n",
    "#Ans=Comment are used in python if we have not want to execute that line.\n",
    "#ex=(1) single line comment (2)multiple line comment\n",
    "\n",
    "#Q2. What are variables in Python? How do you declare and assign values to variables?\n",
    "#ans=variable are used to store datas in python.To assign a name to a variable you just type its name.\n",
    "\n",
    "#Q3. How do you convert one data type to another in Python?\n",
    "#ans=with ex\n",
    "\n",
    "a=5\n",
    "print(type(a))\n",
    "\n",
    "s=str(a)\n",
    "print(type(s))\n",
    "\n",
    "#Q4. How do you write and execute a Python script from the command line?\n",
    "#ans=by using shift+enter or run button on above in jupyter.\n",
    "\n",
    "#Q5. Given a list my_list = [1, 2, 3, 4, 5], write the code to slice the list and obtain the sub-list [2, 3].\n",
    "\n",
    "my_list=[1,2,3,4,5]\n",
    "\n",
    "sub_list=print(my_list[1:3])\n",
    "\n",
    "#Q6. What is a complex number in mathematics, and how is it represented in Python?\n",
    "#ans=complex no in math is where there have a real and imaginary no.In python complex no written as a+bj where a is a real and bj is a imaginary no(j is dented as imaginary).\n",
    "\n",
    "#Q7. What is the correct way to declare a variable named age and assign the value 25 to it?\n",
    " \n",
    "age=25\n",
    "print(age)\n",
    "\n",
    "#Q8. Declare a variable named price and assign the value 9.99 to it. What data type does this variable belong to?\n",
    "\n",
    "price=9.99\n",
    "print(type(price))#floating data type\n",
    "\n",
    "#Q9. Create a variable named name and assign your full name to it as a string. How would you print the value of this variable?\n",
    "\n",
    "name='RAJENDRA NAYAK'\n",
    "for i in name:\n",
    "    print(i)\n"
   ]
  },
  {
   "cell_type": "code",
   "execution_count": 64,
   "id": "ff88463f",
   "metadata": {},
   "outputs": [
    {
     "name": "stdout",
     "output_type": "stream",
     "text": [
      "world\n"
     ]
    }
   ],
   "source": [
    "#Q10. Given the string \"Hello, World!\", extract the substring \"World\".\n",
    "\n",
    "string='hello, world!'\n",
    "print(string[7:12])"
   ]
  },
  {
   "cell_type": "code",
   "execution_count": 69,
   "id": "4fc0ea21",
   "metadata": {},
   "outputs": [
    {
     "name": "stdout",
     "output_type": "stream",
     "text": [
      "False\n"
     ]
    }
   ],
   "source": [
    "#Q11. Create a variable named \"is_student\" and assign it a boolean value indicating whether you are currently a student or not.\n",
    "\n",
    "is_student=True\n",
    "is_student=False\n",
    "\n",
    "print(is_student)\n",
    "\n"
   ]
  },
  {
   "cell_type": "code",
   "execution_count": null,
   "id": "2be7c8bb",
   "metadata": {},
   "outputs": [],
   "source": []
  }
 ],
 "metadata": {
  "kernelspec": {
   "display_name": "Python 3 (ipykernel)",
   "language": "python",
   "name": "python3"
  },
  "language_info": {
   "codemirror_mode": {
    "name": "ipython",
    "version": 3
   },
   "file_extension": ".py",
   "mimetype": "text/x-python",
   "name": "python",
   "nbconvert_exporter": "python",
   "pygments_lexer": "ipython3",
   "version": "3.9.13"
  }
 },
 "nbformat": 4,
 "nbformat_minor": 5
}
