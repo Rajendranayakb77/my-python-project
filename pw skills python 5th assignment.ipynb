{
 "cells": [
  {
   "cell_type": "markdown",
   "id": "96f8c078",
   "metadata": {},
   "source": [
    "# Q1, Create a vehicle class with an init method having instance variables as name_of_vehicle, max_speed and average_of_vehicle."
   ]
  },
  {
   "cell_type": "code",
   "execution_count": 2,
   "id": "da9bcb59",
   "metadata": {},
   "outputs": [],
   "source": [
    "class vehicle:\n",
    "    def __init__(self,name_of_vehicle,max_speed,average_of_vehicle):\n",
    "        self.name_of_vehicle=name_of_vehicle\n",
    "        self.max_speed=max_speed\n",
    "        self.average_of_vehicle=average_of_vehicle\n",
    "\n",
    "    def return_vehicle_details(self):\n",
    "        return self.name_of_vehicle,self.max_speed,self.average_of_vehicle"
   ]
  },
  {
   "cell_type": "code",
   "execution_count": 3,
   "id": "41827910",
   "metadata": {},
   "outputs": [],
   "source": [
    "obj=vehicle('tata',190,90)"
   ]
  },
  {
   "cell_type": "code",
   "execution_count": 4,
   "id": "10665bbc",
   "metadata": {},
   "outputs": [
    {
     "data": {
      "text/plain": [
       "('tata', 190, 90)"
      ]
     },
     "execution_count": 4,
     "metadata": {},
     "output_type": "execute_result"
    }
   ],
   "source": [
    "obj.return_vehicle_details()\n"
   ]
  },
  {
   "cell_type": "markdown",
   "id": "da1103ea",
   "metadata": {},
   "source": [
    "# Q2. Create a child class car from the vehicle class created in Que 1, which will inherit the vehicle class.\n",
    "Create a method named seating_capacity which takes capacity as an argument and returns the name of\n",
    "the vehicle and its seating capacity.\n"
   ]
  },
  {
   "cell_type": "code",
   "execution_count": 19,
   "id": "836088ca",
   "metadata": {},
   "outputs": [],
   "source": [
    "class car(vehicle):\n",
    "    def seating_capacity(self, capacity):\n",
    "        self.capacity = capacity\n",
    "        return self.name_of_vehicle, self.capacity"
   ]
  },
  {
   "cell_type": "code",
   "execution_count": 22,
   "id": "fc94db89",
   "metadata": {},
   "outputs": [
    {
     "data": {
      "text/plain": [
       "('mahendra', 10)"
      ]
     },
     "execution_count": 22,
     "metadata": {},
     "output_type": "execute_result"
    }
   ],
   "source": [
    "obj1=car('mahendra',180,80)\n",
    "obj1.seating_capacity(10)"
   ]
  },
  {
   "cell_type": "markdown",
   "id": "e41eab56",
   "metadata": {},
   "source": [
    "# Q3. What is multiple inheritance? Write a python code to demonstrate multiple inheritance.\n"
   ]
  },
  {
   "cell_type": "markdown",
   "id": "d0692ab9",
   "metadata": {},
   "source": [
    "### Multiple inheritance is object oriented programing language(OOP) in which  a class can inherit from multiple classes, thus inheriting the attributes and behaviors of all its parent classes..\n",
    "\n",
    "### ex"
   ]
  },
  {
   "cell_type": "code",
   "execution_count": 27,
   "id": "3ce9b7f4",
   "metadata": {},
   "outputs": [],
   "source": [
    "class class1:\n",
    "    def class1(self):\n",
    "        return 'I WANT TO  BECOME A DATA SCIENTIST'\n",
    "    \n",
    "class class2:\n",
    "    def class2(class1):\n",
    "        return 'But it takes some time'\n",
    "\n",
    "class class3:\n",
    "    def class3(class2):\n",
    "        return 'but how many days it will be?????'\n",
    "\n",
    "class class4(class1,class2,class3):\n",
    "    pass"
   ]
  },
  {
   "cell_type": "code",
   "execution_count": 29,
   "id": "ed08b62d",
   "metadata": {},
   "outputs": [],
   "source": [
    "c=class4()"
   ]
  },
  {
   "cell_type": "code",
   "execution_count": 31,
   "id": "39f09718",
   "metadata": {},
   "outputs": [
    {
     "data": {
      "text/plain": [
       "'but how many days it will be?????'"
      ]
     },
     "execution_count": 31,
     "metadata": {},
     "output_type": "execute_result"
    }
   ],
   "source": [
    "c.class1()\n",
    "c.class2()\n",
    "c.class3()"
   ]
  },
  {
   "cell_type": "markdown",
   "id": "e3367037",
   "metadata": {},
   "source": [
    "# Q4. What are getter and setter in python? Create a class and create a getter and a setter method in this"
   ]
  },
  {
   "cell_type": "markdown",
   "id": "98287931",
   "metadata": {},
   "source": [
    "#Getter name used for to get the name from a class,setter name used for updte the name from class."
   ]
  },
  {
   "cell_type": "code",
   "execution_count": 46,
   "id": "f8dd619a",
   "metadata": {},
   "outputs": [],
   "source": [
    "class person:\n",
    "    def __init__(self,name):\n",
    "        self.name=name\n",
    "        \n",
    "    def get_name(self):\n",
    "        return self.name\n",
    "    \n",
    "    def set_name(self,name):\n",
    "        self.name=name\n",
    "        return self.name"
   ]
  },
  {
   "cell_type": "code",
   "execution_count": 48,
   "id": "86ffb110",
   "metadata": {},
   "outputs": [
    {
     "data": {
      "text/plain": [
       "'raja'"
      ]
     },
     "execution_count": 48,
     "metadata": {},
     "output_type": "execute_result"
    }
   ],
   "source": [
    "r=person('raja')\n",
    "r.get_name()"
   ]
  },
  {
   "cell_type": "code",
   "execution_count": 49,
   "id": "2ed51562",
   "metadata": {},
   "outputs": [
    {
     "data": {
      "text/plain": [
       "'rajendra'"
      ]
     },
     "execution_count": 49,
     "metadata": {},
     "output_type": "execute_result"
    }
   ],
   "source": [
    "r.set_name('rajendra')"
   ]
  },
  {
   "cell_type": "markdown",
   "id": "46bbd637",
   "metadata": {},
   "source": [
    "# Q5.What is method overriding in python? Write a python code to demonstrate method overriding.\n"
   ]
  },
  {
   "cell_type": "raw",
   "id": "dbd5c672",
   "metadata": {},
   "source": [
    "Method overriding is a feature of object-oriented programming in which a subclass can provide a new implementation of a method that is already defined in its parent class. The subclass method is said to \"override\" the parent class method. This allows the subclass to change or extend the behavior of the method inherited from the parent class, while still maintaining the same method signature."
   ]
  },
  {
   "cell_type": "code",
   "execution_count": 54,
   "id": "b729498d",
   "metadata": {},
   "outputs": [],
   "source": [
    "class number:\n",
    "    def __init__(self,number):\n",
    "        self.number=number\n",
    "    \n",
    "    def add(self,add):\n",
    "        self.number=self.number+add\n",
    "    \n",
    "    def substract(self,substract):\n",
    "        self.number=self.number-substract\n",
    "    \n",
    "    def return_number(self):\n",
    "        return self.number"
   ]
  },
  {
   "cell_type": "code",
   "execution_count": 55,
   "id": "82bcfed3",
   "metadata": {},
   "outputs": [],
   "source": [
    "s=number(10)"
   ]
  },
  {
   "cell_type": "code",
   "execution_count": 56,
   "id": "f2033f19",
   "metadata": {},
   "outputs": [],
   "source": [
    "s.add(50)"
   ]
  },
  {
   "cell_type": "code",
   "execution_count": 58,
   "id": "97df2603",
   "metadata": {},
   "outputs": [
    {
     "data": {
      "text/plain": [
       "60"
      ]
     },
     "execution_count": 58,
     "metadata": {},
     "output_type": "execute_result"
    }
   ],
   "source": [
    "s.return_number()"
   ]
  },
  {
   "cell_type": "code",
   "execution_count": 59,
   "id": "06f12148",
   "metadata": {},
   "outputs": [],
   "source": [
    "s.substract(20)"
   ]
  },
  {
   "cell_type": "code",
   "execution_count": 60,
   "id": "f62495e2",
   "metadata": {},
   "outputs": [
    {
     "data": {
      "text/plain": [
       "40"
      ]
     },
     "execution_count": 60,
     "metadata": {},
     "output_type": "execute_result"
    }
   ],
   "source": [
    "s.return_number()"
   ]
  },
  {
   "cell_type": "code",
   "execution_count": null,
   "id": "138e619e",
   "metadata": {},
   "outputs": [],
   "source": []
  }
 ],
 "metadata": {
  "kernelspec": {
   "display_name": "Python 3 (ipykernel)",
   "language": "python",
   "name": "python3"
  },
  "language_info": {
   "codemirror_mode": {
    "name": "ipython",
    "version": 3
   },
   "file_extension": ".py",
   "mimetype": "text/x-python",
   "name": "python",
   "nbconvert_exporter": "python",
   "pygments_lexer": "ipython3",
   "version": "3.9.13"
  }
 },
 "nbformat": 4,
 "nbformat_minor": 5
}
