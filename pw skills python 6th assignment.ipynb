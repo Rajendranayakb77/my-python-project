{
 "cells": [
  {
   "cell_type": "markdown",
   "id": "529ff59a",
   "metadata": {},
   "source": [
    "# Q1. Explain Class and Object with respect to Object-Oriented Programming. Give a suitable example.\n",
    "\n",
    "## ans= Class=It is a blue print of object / an object is create by using a class.\n",
    "\n",
    "##          Obj=Object are an instance which is present inside a class which have a state and a behaviour.\n",
    "\n",
    "##          ex=Suppose a car company name TATA which is denote as a Class but the car have a good attractive 'BLACK COLOUR','SMOOTH SEAT','ATTRACTIVE DESIGN' etc etc have an Object."
   ]
  },
  {
   "cell_type": "markdown",
   "id": "77e518c6",
   "metadata": {},
   "source": [
    "# Q2. Name the four pillars of OOPs.\n",
    "\n",
    "### Ans: The four pillars of object-oriented programming (OOP) are:\n",
    "\n",
    "#### Abstraction: Abstraction refers to the practice of exposing only the relevant information and hiding the complexity of the implementation. It allows the user to focus on what the object does rather than how it does it.\n",
    "\n",
    "#### Encapsulation: Encapsulation is the mechanism of wrapping the data (variables) and functions that operate on that data within a single unit or object. This protects the data from accidental corruption and provides a secure way to access the data.\n",
    "\n",
    "#### Inheritance: Inheritance is a mechanism where a new class can be derived from an existing class. The derived class inherits all the attributes and behaviors of the parent class and can also have its own attributes and behaviors.\n",
    "\n",
    "#### Polymorphism: Polymorphism is the ability of an object to take on multiple forms. This is achieved in OOP by defining methods with the same name in different classes that are related by inheritance. When a method is called on an object, the correct implementation of that method is executed based on the object's actual class."
   ]
  },
  {
   "cell_type": "markdown",
   "id": "d8440562",
   "metadata": {},
   "source": [
    "# Q3. Explain why the init() function is used. Give a suitable example.\n",
    "\n",
    "## Ans: init() means initialization which is generally a construction function as it usually alocate a memory to a object is created.\n",
    "\n",
    "## EX\n",
    "\n"
   ]
  },
  {
   "cell_type": "code",
   "execution_count": 20,
   "id": "534bc1ce",
   "metadata": {},
   "outputs": [],
   "source": [
    "class student:\n",
    "    def __init__(self,name,age):\n",
    "        self.name=name\n",
    "        self.age=age\n",
    "    \n",
    "    def return_details(self):\n",
    "        return self.name,self.age"
   ]
  },
  {
   "cell_type": "code",
   "execution_count": 21,
   "id": "9942300b",
   "metadata": {},
   "outputs": [],
   "source": [
    "s=student('raja',29)"
   ]
  },
  {
   "cell_type": "code",
   "execution_count": 22,
   "id": "fb88bc54",
   "metadata": {},
   "outputs": [
    {
     "data": {
      "text/plain": [
       "('raja', 29)"
      ]
     },
     "execution_count": 22,
     "metadata": {},
     "output_type": "execute_result"
    }
   ],
   "source": [
    "s.return_details()"
   ]
  },
  {
   "cell_type": "code",
   "execution_count": 24,
   "id": "a6c19e3e",
   "metadata": {},
   "outputs": [
    {
     "data": {
      "text/plain": [
       "29"
      ]
     },
     "execution_count": 24,
     "metadata": {},
     "output_type": "execute_result"
    }
   ],
   "source": [
    "s.age"
   ]
  },
  {
   "cell_type": "code",
   "execution_count": 25,
   "id": "9151149f",
   "metadata": {},
   "outputs": [
    {
     "data": {
      "text/plain": [
       "'raja'"
      ]
     },
     "execution_count": 25,
     "metadata": {},
     "output_type": "execute_result"
    }
   ],
   "source": [
    "s.name"
   ]
  },
  {
   "cell_type": "markdown",
   "id": "ef011882",
   "metadata": {},
   "source": [
    "# Q4. Why self is used in OOPs?\n",
    "\n",
    "## ANS=self is used to refer to the instance of the object being manipulated within a method.This allows the method to access and modify the object's attributes and perform other operations on the object.\n",
    "\n",
    "## EX="
   ]
  },
  {
   "cell_type": "code",
   "execution_count": 26,
   "id": "26b59ec2",
   "metadata": {},
   "outputs": [
    {
     "name": "stdout",
     "output_type": "stream",
     "text": [
      "John\n",
      "Jane\n"
     ]
    }
   ],
   "source": [
    "class Person:\n",
    "    def __init__(self, name, age):\n",
    "        self.name = name\n",
    "        self.age = age\n",
    "        \n",
    "    def set_name(self, name):\n",
    "        self.name = name\n",
    "        \n",
    "    def set_age(self, age):\n",
    "        self.age = age\n",
    "\n",
    "person = Person(\"John\", 30)\n",
    "print(person.name)\n",
    "\n",
    "person.set_name(\"Jane\")\n",
    "print(person.name) "
   ]
  },
  {
   "cell_type": "markdown",
   "id": "b0ef0c04",
   "metadata": {},
   "source": [
    "# Q5. What is inheritance? Give an example for each type of inheritance.\n",
    "\n",
    "## ANS=Inheritance is a mechanism in object-oriented programming (OOP) that allows a new class to be derived from an existing class. There are several types of inheritance, including:\n"
   ]
  },
  {
   "cell_type": "code",
   "execution_count": 72,
   "id": "8a5cfa3c",
   "metadata": {},
   "outputs": [],
   "source": [
    "#Single inheritance: Single inheritance is a type of inheritance where a derived class inherits from a single base class.\n",
    "\n",
    "#Example:\n",
    "\n",
    "class car:\n",
    "    def car_name(self):\n",
    "        return \"TATA Is my favorite\"\n"
   ]
  },
  {
   "cell_type": "code",
   "execution_count": 73,
   "id": "23aa6c55",
   "metadata": {},
   "outputs": [],
   "source": [
    "class car1(car):\n",
    "    pass"
   ]
  },
  {
   "cell_type": "code",
   "execution_count": 74,
   "id": "dbcc112a",
   "metadata": {},
   "outputs": [],
   "source": [
    "c=car1()"
   ]
  },
  {
   "cell_type": "code",
   "execution_count": 76,
   "id": "177b2ad2",
   "metadata": {},
   "outputs": [
    {
     "data": {
      "text/plain": [
       "'TATA Is my favorite'"
      ]
     },
     "execution_count": 76,
     "metadata": {},
     "output_type": "execute_result"
    }
   ],
   "source": [
    "c.car_name()"
   ]
  },
  {
   "cell_type": "code",
   "execution_count": 6,
   "id": "1b529ca6",
   "metadata": {},
   "outputs": [],
   "source": [
    "#2-Multilevel inheritance: Multiple inheritance is a type of inheritance where a derived class inherits from multiple base classes.\n",
    "\n",
    "#EX\n",
    "\n",
    "class pwskills:\n",
    "    def class1(self):\n",
    "        return 'i am now reading data science'\n",
    "        \n",
    "class pwskills1(pwskills):\n",
    "    def class2(self):\n",
    "        return 'data science is a vast subject'\n",
    "        \n",
    "class pwskills2(pwskills1):\n",
    "    pass"
   ]
  },
  {
   "cell_type": "code",
   "execution_count": 7,
   "id": "9a729b37",
   "metadata": {},
   "outputs": [],
   "source": [
    "student=pwskills2()"
   ]
  },
  {
   "cell_type": "code",
   "execution_count": 11,
   "id": "eee690a0",
   "metadata": {},
   "outputs": [
    {
     "data": {
      "text/plain": [
       "'i am now reading data science'"
      ]
     },
     "execution_count": 11,
     "metadata": {},
     "output_type": "execute_result"
    }
   ],
   "source": [
    "student.class1()"
   ]
  },
  {
   "cell_type": "code",
   "execution_count": 12,
   "id": "f147a823",
   "metadata": {},
   "outputs": [
    {
     "data": {
      "text/plain": [
       "'data science is a vast subject'"
      ]
     },
     "execution_count": 12,
     "metadata": {},
     "output_type": "execute_result"
    }
   ],
   "source": [
    "student.class2()"
   ]
  },
  {
   "cell_type": "code",
   "execution_count": 17,
   "id": "2bfacb48",
   "metadata": {},
   "outputs": [],
   "source": [
    "#Multi-level inheritance: Multi-level inheritance is a type of inheritance where a derived class inherits from a base class, which in turn inherits from another base class.\n",
    "#Example:\n",
    "\n",
    "class bike:\n",
    "    def bike_name(self):\n",
    "        return 'i love royal enfiled'\n",
    "\n",
    "class bike1():\n",
    "    def bike_name1(self):\n",
    "        return 'royal enfiled bullet is my favorite'\n",
    "\n",
    "class bike2():\n",
    "    def bike_name2(self):\n",
    "        return 'its cost is approximate 300000'\n",
    "\n",
    "class bike3(bike,bike1,bike2):\n",
    "    pass\n"
   ]
  },
  {
   "cell_type": "code",
   "execution_count": 18,
   "id": "3615f066",
   "metadata": {},
   "outputs": [],
   "source": [
    "b=bike3()"
   ]
  },
  {
   "cell_type": "code",
   "execution_count": 19,
   "id": "36b78b30",
   "metadata": {},
   "outputs": [
    {
     "data": {
      "text/plain": [
       "'i love royal enfiled'"
      ]
     },
     "execution_count": 19,
     "metadata": {},
     "output_type": "execute_result"
    }
   ],
   "source": [
    "b.bike_name()"
   ]
  },
  {
   "cell_type": "code",
   "execution_count": 20,
   "id": "07453e8c",
   "metadata": {},
   "outputs": [
    {
     "data": {
      "text/plain": [
       "'its cost is approximate 300000'"
      ]
     },
     "execution_count": 20,
     "metadata": {},
     "output_type": "execute_result"
    }
   ],
   "source": [
    "b.bike_name2()"
   ]
  },
  {
   "cell_type": "code",
   "execution_count": null,
   "id": "1fa0acc4",
   "metadata": {},
   "outputs": [],
   "source": []
  }
 ],
 "metadata": {
  "kernelspec": {
   "display_name": "Python 3 (ipykernel)",
   "language": "python",
   "name": "python3"
  },
  "language_info": {
   "codemirror_mode": {
    "name": "ipython",
    "version": 3
   },
   "file_extension": ".py",
   "mimetype": "text/x-python",
   "name": "python",
   "nbconvert_exporter": "python",
   "pygments_lexer": "ipython3",
   "version": "3.9.13"
  }
 },
 "nbformat": 4,
 "nbformat_minor": 5
}
