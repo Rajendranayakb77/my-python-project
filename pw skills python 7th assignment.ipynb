{
 "cells": [
  {
   "cell_type": "markdown",
   "id": "2f5bf3b6",
   "metadata": {},
   "source": [
    "# Q1. What is Abstraction in OOps? Explain with an example.# "
   ]
  },
  {
   "cell_type": "code",
   "execution_count": 10,
   "id": "53dd24b4",
   "metadata": {},
   "outputs": [],
   "source": [
    "#Abstraction in Object-Oriented Programming (OOP) used to create a skeleton or outline.\n",
    "\n",
    "import abc #mendatory for abstract class to import abc\n",
    "\n",
    "class pwskills():\n",
    "    \n",
    "    @abc.abstractmethod     #type @abc. thn type tab to call inbuild method\n",
    "    def car_company(self):\n",
    "        pass\n",
    "    \n",
    "    @abc.abstractmethod\n",
    "    def car_brand(self):\n",
    "        pass\n",
    "    \n",
    "    @abc.abstractmethod \n",
    "    def car_colour(self):\n",
    "        pass\n",
    "    \n"
   ]
  },
  {
   "cell_type": "code",
   "execution_count": 11,
   "id": "86e36f04",
   "metadata": {},
   "outputs": [],
   "source": [
    "class car(pwskills):\n",
    "    \n",
    "    def car_company(self):\n",
    "        return \"i love tata as a car company\"\n",
    "    \n",
    "    def car_brand(self):\n",
    "        return 'tata harrier is my love'\n",
    "    \n",
    "    def car_colour(Self):\n",
    "        return 'love mat black'"
   ]
  },
  {
   "cell_type": "code",
   "execution_count": 12,
   "id": "5c963dc4",
   "metadata": {},
   "outputs": [],
   "source": [
    "class car1(pwskills):\n",
    "    def car_company(self):\n",
    "        return 'mahendra is also a good company'\n",
    "    \n",
    "    def car_brand(self):\n",
    "        return 'xuv'\n",
    "    \n",
    "    def car_colour(self):\n",
    "        return 'red'"
   ]
  },
  {
   "cell_type": "code",
   "execution_count": 13,
   "id": "aa2270fd",
   "metadata": {},
   "outputs": [],
   "source": [
    "c=car()"
   ]
  },
  {
   "cell_type": "code",
   "execution_count": 14,
   "id": "e9e11983",
   "metadata": {},
   "outputs": [
    {
     "data": {
      "text/plain": [
       "'i love tata as a car company'"
      ]
     },
     "execution_count": 14,
     "metadata": {},
     "output_type": "execute_result"
    }
   ],
   "source": [
    "c.car_company()"
   ]
  },
  {
   "cell_type": "code",
   "execution_count": 15,
   "id": "1ff9e4e7",
   "metadata": {},
   "outputs": [],
   "source": [
    "c=car1()"
   ]
  },
  {
   "cell_type": "code",
   "execution_count": 16,
   "id": "63351b9b",
   "metadata": {},
   "outputs": [
    {
     "data": {
      "text/plain": [
       "'mahendra is also a good company'"
      ]
     },
     "execution_count": 16,
     "metadata": {},
     "output_type": "execute_result"
    }
   ],
   "source": [
    "c.car_company()"
   ]
  },
  {
   "cell_type": "markdown",
   "id": "5c030f2b",
   "metadata": {},
   "source": [
    "# Q2. Differentiate between Abstraction and Encapsulation. Explain with an example.\n",
    "\n",
    "#We use Abstraction to create a skeleton for making a class but in Encapsulation we used to hide an object from a different user.\n",
    "\n",
    "#In Abstraction we modified an object but in Encapsulation we are unable to update.\n",
    "\n",
    "#in Abstraction we directaly call an object but in Encapsulation we call object by using _."
   ]
  },
  {
   "cell_type": "markdown",
   "id": "77a5b8e8",
   "metadata": {},
   "source": [
    "# Q3. What is abc module in python? Why is it used?\n",
    "\n",
    "The abc module is used for creating abstract base classes in Python, which can be useful in situations where you want to define a common interface for a set of related classes.\n",
    "\n",
    "This helps in ensuring that all implementations of the data structure have the necessary methods and makes it easier to write code that can work with different implementations interchangeably."
   ]
  },
  {
   "cell_type": "markdown",
   "id": "668f8c19",
   "metadata": {},
   "source": [
    "# Q4. How can we achieve data abstraction?"
   ]
  },
  {
   "cell_type": "markdown",
   "id": "fb2c4567",
   "metadata": {},
   "source": [
    "Data Abstraction is a technique to hide the internal implementation details of an object and present only the relevant information to the outside world. There are several ways to achieve data abstraction in Object-Oriented Programming (OOP):\n",
    "\n",
    "Encapsulation:By encapsulating data within an object, you can restrict direct access to the data from outside the object and ensure data integrity and security.\n",
    "\n",
    "Access Modifiers:By this you can restrict direct access to the data from outside the object, thereby implementing data abstraction.\n",
    "\n",
    "Abstract Classes:By defining abstract classes and methods, you can enforce a certain interface on the concrete implementations.\n",
    "\n",
    "Interfaces: Interfaces can be used to achieve data abstraction by defining a common interface for a set of related classes."
   ]
  },
  {
   "cell_type": "markdown",
   "id": "6007d957",
   "metadata": {},
   "source": [
    "# Q5. Can we create an instance of an abstract class? Explain your answer."
   ]
  },
  {
   "cell_type": "markdown",
   "id": "c58a8000",
   "metadata": {},
   "source": [
    "No, we cannot create an instance of an abstract class. An abstract class is a class that is meant to be subclassed and cannot be instantiated directly.\n",
    "\n",
    "In abstract class you make an skeleton and have a blueprint of a class should be used by user and initialization of the code but in instance method you can access and modified of attribute every time.\n",
    "\n",
    "ex\n",
    "\n",
    "class shape:\n",
    "      \n",
    "    # Calling Constructor\n",
    "    def __init__(self, edge, color):\n",
    "        self.edge = edge\n",
    "        self.color = color\n",
    "          \n",
    "    # Instance Method\n",
    "    def finEdges(self):\n",
    "        return self.edge"
   ]
  },
  {
   "cell_type": "code",
   "execution_count": null,
   "id": "9338c0c2",
   "metadata": {},
   "outputs": [],
   "source": []
  }
 ],
 "metadata": {
  "kernelspec": {
   "display_name": "Python 3 (ipykernel)",
   "language": "python",
   "name": "python3"
  },
  "language_info": {
   "codemirror_mode": {
    "name": "ipython",
    "version": 3
   },
   "file_extension": ".py",
   "mimetype": "text/x-python",
   "name": "python",
   "nbconvert_exporter": "python",
   "pygments_lexer": "ipython3",
   "version": "3.9.13"
  }
 },
 "nbformat": 4,
 "nbformat_minor": 5
}
